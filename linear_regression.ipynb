{
 "cells": [
  {
   "cell_type": "code",
   "execution_count": 264,
   "id": "899a4ebd",
   "metadata": {},
   "outputs": [],
   "source": [
    "import pandas as pd\n",
    "import seaborn as sns\n",
    "from numpy import *\n",
    "\n",
    "from sklearn.preprocessing import OneHotEncoder\n",
    "from category_encoders.target_encoder import TargetEncoder\n",
    "\n",
    "from sklearn.model_selection import train_test_split\n",
    "from sklearn.linear_model import LinearRegression"
   ]
  },
  {
   "cell_type": "code",
   "execution_count": 505,
   "id": "69f4d1e8",
   "metadata": {},
   "outputs": [],
   "source": [
    "df = pd.read_csv('ya_climate.csv', sep=';', decimal='.')"
   ]
  },
  {
   "cell_type": "code",
   "execution_count": 506,
   "id": "63bbcf1d",
   "metadata": {},
   "outputs": [],
   "source": [
    "df.columns = list(map(lambda x: x.lower().replace(' ', '_'), df.columns))"
   ]
  },
  {
   "cell_type": "code",
   "execution_count": 507,
   "id": "67b42def",
   "metadata": {},
   "outputs": [],
   "source": [
    "df = df.drop_duplicates()"
   ]
  },
  {
   "cell_type": "code",
   "execution_count": 508,
   "id": "26083b4f",
   "metadata": {},
   "outputs": [],
   "source": [
    "col = \"температура_воздуха_на_улице\"\n",
    "average_col = \"среднемесячная_температура_на_улице\"\n",
    "df[col] = df[col].fillna(df.groupby([\"город\", \"время_года\"])[average_col].transform(\"mean\"))"
   ]
  },
  {
   "cell_type": "code",
   "execution_count": 509,
   "id": "f6ba8463",
   "metadata": {},
   "outputs": [],
   "source": [
    "col = \"среднемесячная_температура_на_улице\"\n",
    "mean_temp = df.groupby(\"город\")[col].mean()\n",
    "df.loc[df[col] > 100, col] = df[\"город\"].map(mean_temp)\n",
    "df[col] = df[col].apply(lambda x: x if x > 50 else x)"
   ]
  },
  {
   "cell_type": "code",
   "execution_count": null,
   "id": "f4ca04bf",
   "metadata": {},
   "outputs": [],
   "source": [
    "d = df[df['страна'] == 'США']['температура_воздуха_в_помещении']\n",
    "d[d > 70] = round((d[d > 70] - 32) * 5 / 9, 4)\n",
    "df.loc[df['страна'] == 'США', 'температура_воздуха_в_помещении'] = d"
   ]
  },
  {
   "cell_type": "code",
   "execution_count": 511,
   "id": "8117b639",
   "metadata": {},
   "outputs": [],
   "source": [
    "df2 = df[['год', 'климат', 'способ_охлаждения',\n",
    "        'способ_обогрева',\n",
    "          'ощущение_температуры', 'температура_воздуха_в_помещении',\n",
    "        'предпочтительное_изменение_температуры', 'окно', 'двери',\n",
    "                'среднемесячная_температура_на_улице']]"
   ]
  },
  {
   "cell_type": "code",
   "execution_count": 512,
   "id": "f6af04aa",
   "metadata": {},
   "outputs": [],
   "source": [
    "df2.loc[df2['климат'] == 'Cубтроп океанич', 'климат'] = 'Cубтропический океанический'"
   ]
  },
  {
   "cell_type": "code",
   "execution_count": 513,
   "id": "5dd29d48",
   "metadata": {},
   "outputs": [],
   "source": [
    "climate = df2.groupby(['климат'])['температура_воздуха_в_помещении'].agg(['mean']).reset_index() \n",
    "# среднее значение температуры в каждом климате"
   ]
  },
  {
   "cell_type": "code",
   "execution_count": null,
   "id": "acd1bff4",
   "metadata": {},
   "outputs": [],
   "source": [
    "df2.климат = df2.климат.map(lambda x: climate[climate['климат'] == x]['mean'].iloc[0])"
   ]
  },
  {
   "cell_type": "code",
   "execution_count": 515,
   "id": "0325bdfb",
   "metadata": {},
   "outputs": [],
   "source": [
    "ohe1 = OneHotEncoder()\n",
    "o = ohe1.fit_transform(df2['способ_охлаждения'].to_numpy().reshape(-1, 1))\n",
    "\n",
    "o = pd.DataFrame(o.toarray())\n",
    "\n",
    "df2.insert(0, 'Кондиционирование', o.iloc[:, 0])\n",
    "df2.insert(0, 'Смешанный', o.iloc[:, 1])\n",
    "df2.insert(0, 'Вентиляция', o.iloc[:, 2])"
   ]
  },
  {
   "cell_type": "code",
   "execution_count": 516,
   "id": "4456eac0",
   "metadata": {},
   "outputs": [],
   "source": [
    "df2 = df2.drop('способ_охлаждения', axis=1)"
   ]
  },
  {
   "cell_type": "code",
   "execution_count": 517,
   "id": "148b8bfb",
   "metadata": {},
   "outputs": [],
   "source": [
    "df2.loc[df2['способ_обогрева'].isna(), 'способ_обогрева'] = 0\n",
    "df2.loc[df2['способ_обогрева'] == 'Механическое отопление', 'способ_обогрева'] = 1"
   ]
  },
  {
   "cell_type": "code",
   "execution_count": 518,
   "id": "25292c15",
   "metadata": {},
   "outputs": [],
   "source": [
    "col = 'предпочтительное_изменение_температуры'"
   ]
  },
  {
   "cell_type": "code",
   "execution_count": 519,
   "id": "6f56065b",
   "metadata": {},
   "outputs": [],
   "source": [
    "df2.loc[df2[col] == 'Холодн', col] = 'Холоднее'\n",
    "df2.loc[df2[col] == 'Тепле', col] = 'Теплее'"
   ]
  },
  {
   "cell_type": "code",
   "execution_count": 520,
   "id": "f9b3f5b2",
   "metadata": {},
   "outputs": [],
   "source": [
    "df2.loc[df2[col] == 'Без изменений', col] = 0\n",
    "df2.loc[df2[col] == 'Теплее', col] = 1\n",
    "df2.loc[df2[col] == 'Холоднее', col] = -1"
   ]
  },
  {
   "cell_type": "code",
   "execution_count": 521,
   "id": "a3476153",
   "metadata": {},
   "outputs": [],
   "source": [
    "df2['окно'] = df2['окно'].fillna(3).astype('category')\n",
    "df2['двери'] = df2['двери'].fillna(3).astype('category')"
   ]
  },
  {
   "cell_type": "code",
   "execution_count": 522,
   "id": "bd93c6a4",
   "metadata": {},
   "outputs": [],
   "source": [
    "Y = df2['температура_воздуха_в_помещении']\n",
    "X = df2.drop('температура_воздуха_в_помещении', axis=1)"
   ]
  },
  {
   "cell_type": "code",
   "execution_count": 523,
   "id": "ef3ad8a3",
   "metadata": {},
   "outputs": [],
   "source": [
    "X_train, X_test, y_train, y_test = train_test_split(X, Y, random_state=0, test_size=0.2)"
   ]
  },
  {
   "cell_type": "code",
   "execution_count": 524,
   "id": "5525405b",
   "metadata": {},
   "outputs": [],
   "source": [
    "target_encoder_window = TargetEncoder()\n",
    "target_encoder_window.fit(X_train['окно'], y_train)\n",
    "target_encoded_window = target_encoder_window.transform(X_train['окно'])\n",
    "X_train['окно'] = target_encoded_window.astype('category')"
   ]
  },
  {
   "cell_type": "code",
   "execution_count": 525,
   "id": "1445eaf2",
   "metadata": {},
   "outputs": [],
   "source": [
    "target_encoder_door = TargetEncoder()\n",
    "target_encoder_door.fit(X_train['двери'], y_train)\n",
    "target_encoded_door = target_encoder_door.transform(X_train['двери'])\n",
    "X_train['двери'] = target_encoded_door.astype('category')"
   ]
  },
  {
   "cell_type": "code",
   "execution_count": 526,
   "id": "117573da",
   "metadata": {},
   "outputs": [],
   "source": [
    "target_encoded_door = target_encoder_door.transform(X_test['двери'])\n",
    "X_test['двери'] = target_encoded_door.astype('category')"
   ]
  },
  {
   "cell_type": "code",
   "execution_count": 527,
   "id": "cff5cba0",
   "metadata": {},
   "outputs": [],
   "source": [
    "target_encoded_window = target_encoder_window.transform(X_test['окно'])\n",
    "X_test['окно'] = target_encoded_window.astype('category')"
   ]
  },
  {
   "cell_type": "code",
   "execution_count": 528,
   "id": "0dfa0908",
   "metadata": {},
   "outputs": [
    {
     "data": {
      "text/html": [
       "<style>#sk-container-id-25 {color: black;background-color: white;}#sk-container-id-25 pre{padding: 0;}#sk-container-id-25 div.sk-toggleable {background-color: white;}#sk-container-id-25 label.sk-toggleable__label {cursor: pointer;display: block;width: 100%;margin-bottom: 0;padding: 0.3em;box-sizing: border-box;text-align: center;}#sk-container-id-25 label.sk-toggleable__label-arrow:before {content: \"▸\";float: left;margin-right: 0.25em;color: #696969;}#sk-container-id-25 label.sk-toggleable__label-arrow:hover:before {color: black;}#sk-container-id-25 div.sk-estimator:hover label.sk-toggleable__label-arrow:before {color: black;}#sk-container-id-25 div.sk-toggleable__content {max-height: 0;max-width: 0;overflow: hidden;text-align: left;background-color: #f0f8ff;}#sk-container-id-25 div.sk-toggleable__content pre {margin: 0.2em;color: black;border-radius: 0.25em;background-color: #f0f8ff;}#sk-container-id-25 input.sk-toggleable__control:checked~div.sk-toggleable__content {max-height: 200px;max-width: 100%;overflow: auto;}#sk-container-id-25 input.sk-toggleable__control:checked~label.sk-toggleable__label-arrow:before {content: \"▾\";}#sk-container-id-25 div.sk-estimator input.sk-toggleable__control:checked~label.sk-toggleable__label {background-color: #d4ebff;}#sk-container-id-25 div.sk-label input.sk-toggleable__control:checked~label.sk-toggleable__label {background-color: #d4ebff;}#sk-container-id-25 input.sk-hidden--visually {border: 0;clip: rect(1px 1px 1px 1px);clip: rect(1px, 1px, 1px, 1px);height: 1px;margin: -1px;overflow: hidden;padding: 0;position: absolute;width: 1px;}#sk-container-id-25 div.sk-estimator {font-family: monospace;background-color: #f0f8ff;border: 1px dotted black;border-radius: 0.25em;box-sizing: border-box;margin-bottom: 0.5em;}#sk-container-id-25 div.sk-estimator:hover {background-color: #d4ebff;}#sk-container-id-25 div.sk-parallel-item::after {content: \"\";width: 100%;border-bottom: 1px solid gray;flex-grow: 1;}#sk-container-id-25 div.sk-label:hover label.sk-toggleable__label {background-color: #d4ebff;}#sk-container-id-25 div.sk-serial::before {content: \"\";position: absolute;border-left: 1px solid gray;box-sizing: border-box;top: 0;bottom: 0;left: 50%;z-index: 0;}#sk-container-id-25 div.sk-serial {display: flex;flex-direction: column;align-items: center;background-color: white;padding-right: 0.2em;padding-left: 0.2em;position: relative;}#sk-container-id-25 div.sk-item {position: relative;z-index: 1;}#sk-container-id-25 div.sk-parallel {display: flex;align-items: stretch;justify-content: center;background-color: white;position: relative;}#sk-container-id-25 div.sk-item::before, #sk-container-id-25 div.sk-parallel-item::before {content: \"\";position: absolute;border-left: 1px solid gray;box-sizing: border-box;top: 0;bottom: 0;left: 50%;z-index: -1;}#sk-container-id-25 div.sk-parallel-item {display: flex;flex-direction: column;z-index: 1;position: relative;background-color: white;}#sk-container-id-25 div.sk-parallel-item:first-child::after {align-self: flex-end;width: 50%;}#sk-container-id-25 div.sk-parallel-item:last-child::after {align-self: flex-start;width: 50%;}#sk-container-id-25 div.sk-parallel-item:only-child::after {width: 0;}#sk-container-id-25 div.sk-dashed-wrapped {border: 1px dashed gray;margin: 0 0.4em 0.5em 0.4em;box-sizing: border-box;padding-bottom: 0.4em;background-color: white;}#sk-container-id-25 div.sk-label label {font-family: monospace;font-weight: bold;display: inline-block;line-height: 1.2em;}#sk-container-id-25 div.sk-label-container {text-align: center;}#sk-container-id-25 div.sk-container {/* jupyter's `normalize.less` sets `[hidden] { display: none; }` but bootstrap.min.css set `[hidden] { display: none !important; }` so we also need the `!important` here to be able to override the default hidden behavior on the sphinx rendered scikit-learn.org. See: https://github.com/scikit-learn/scikit-learn/issues/21755 */display: inline-block !important;position: relative;}#sk-container-id-25 div.sk-text-repr-fallback {display: none;}</style><div id=\"sk-container-id-25\" class=\"sk-top-container\"><div class=\"sk-text-repr-fallback\"><pre>LinearRegression()</pre><b>In a Jupyter environment, please rerun this cell to show the HTML representation or trust the notebook. <br />On GitHub, the HTML representation is unable to render, please try loading this page with nbviewer.org.</b></div><div class=\"sk-container\" hidden><div class=\"sk-item\"><div class=\"sk-estimator sk-toggleable\"><input class=\"sk-toggleable__control sk-hidden--visually\" id=\"sk-estimator-id-25\" type=\"checkbox\" checked><label for=\"sk-estimator-id-25\" class=\"sk-toggleable__label sk-toggleable__label-arrow\">LinearRegression</label><div class=\"sk-toggleable__content\"><pre>LinearRegression()</pre></div></div></div></div></div>"
      ],
      "text/plain": [
       "LinearRegression()"
      ]
     },
     "execution_count": 528,
     "metadata": {},
     "output_type": "execute_result"
    }
   ],
   "source": [
    "model = LinearRegression()\n",
    "model.fit(X_train, y_train)"
   ]
  },
  {
   "cell_type": "code",
   "execution_count": 529,
   "id": "334ce071",
   "metadata": {},
   "outputs": [
    {
     "name": "stdout",
     "output_type": "stream",
     "text": [
      "0.45065370809771355\n",
      "0.38432884357914776\n"
     ]
    }
   ],
   "source": [
    "print(model.score(X_train, y_train))\n",
    "print(model.score(X_test, y_test))"
   ]
  }
 ],
 "metadata": {
  "kernelspec": {
   "display_name": "Python 3 (ipykernel)",
   "language": "python",
   "name": "python3"
  },
  "language_info": {
   "codemirror_mode": {
    "name": "ipython",
    "version": 3
   },
   "file_extension": ".py",
   "mimetype": "text/x-python",
   "name": "python",
   "nbconvert_exporter": "python",
   "pygments_lexer": "ipython3",
   "version": "3.10.11"
  }
 },
 "nbformat": 4,
 "nbformat_minor": 5
}
